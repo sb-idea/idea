{
 "cells": [
  {
   "cell_type": "markdown",
   "metadata": {},
   "source": [
    "# Acoustics in one dimension"
   ]
  },
  {
   "cell_type": "markdown",
   "metadata": {},
   "source": [
    "This [Jupyter notebook](http://www.jupyter.org) can be found in [collection of Clawpack apps](http://www.clawpack.org/apps.html) as the file [`$CLAW/apps/notebooks/classic/acoustics_1d_example1/acoustics_1d_example1.ipynb`](https://github.com/clawpack/apps/tree/master/notebooks/classic/acoustics_1d_example1/acoustics_1d_example1.ipynb).  \n",
    "To run this notebook, [install Clawpack](http://www.clawpack.org/installing.html), and clone the [apps repository](https://github.com/clawpack/apps).  \n",
    "A static view of this and other notebooks can be found in the [Clawpack Gallery of Jupyter notebooks](http://www.clawpack.org/gallery/notebooks.html)."
   ]
  },
  {
   "cell_type": "markdown",
   "metadata": {},
   "source": [
    "This notebook demonstrates running the Clawpack Fortran code and plotting results from a Jupyter notebook, and illustration of the behavior of various methods and limiters on the same problem. This example is based on the one in `$CLAW/classic/examples/acoustics_1d_example1`."
   ]
  },
  {
   "cell_type": "markdown",
   "metadata": {},
   "source": [
    "The 1-dimensional acoustics equations $q_t + Aq_x = 0$ is solved in the interval $-1 \\leq x \\leq 1$ with extrapolation boundary conditions.\n",
    "\n",
    "The density `rho` and bulk modulus `K` are specified in `setrun.py` but can be changed below."
   ]
  },
  {
   "cell_type": "markdown",
   "metadata": {},
   "source": [
    "### Version\n",
    "\n",
    "Animation revised to run with v5.7.0"
   ]
  },
  {
   "cell_type": "markdown",
   "metadata": {},
   "source": [
    "Have plots appear inline in notebook:"
   ]
  },
  {
   "cell_type": "code",
   "execution_count": null,
   "metadata": {},
   "outputs": [],
   "source": [
    "%pylab inline"
   ]
  },
  {
   "cell_type": "code",
   "execution_count": null,
   "metadata": {},
   "outputs": [],
   "source": [
    "from __future__ import print_function  # so notebook works in Python2 or Python3"
   ]
  },
  {
   "cell_type": "markdown",
   "metadata": {},
   "source": [
    "Check that the CLAW environment variable is set.  (It must be set in the Unix shell before starting the notebook server)."
   ]
  },
  {
   "cell_type": "code",
   "execution_count": null,
   "metadata": {},
   "outputs": [],
   "source": [
    "import os\n",
    "try:\n",
    "    CLAW = os.environ['CLAW'] \n",
    "    print(\"Using Clawpack from \", CLAW)\n",
    "except:\n",
    "    print(\"*** Environment variable CLAW must be set to run code\")"
   ]
  },
  {
   "cell_type": "markdown",
   "metadata": {},
   "source": [
    "### Module with functions used to execute system commands and capture output:"
   ]
  },
  {
   "cell_type": "code",
   "execution_count": null,
   "metadata": {},
   "outputs": [],
   "source": [
    "from clawpack.clawutil import nbtools\n",
    "from clawpack.visclaw import animation_tools\n",
    "from IPython.display import HTML"
   ]
  },
  {
   "cell_type": "markdown",
   "metadata": {},
   "source": [
    "### Inline animations:\n",
    "\n",
    "Using `anim.to_jshtml()` gives animations similar to what you see in the html files if you do `make plots`, but you may prefer the `anim.to_html5_video()` option.  See the [matplotlib.animation.Animation documentation](https://matplotlib.org/3.1.0/api/_as_gen/matplotlib.animation.Animation.html) for more information, also on how to save an animation as a separate file."
   ]
  },
  {
   "cell_type": "code",
   "execution_count": null,
   "metadata": {},
   "outputs": [],
   "source": [
    "def show_anim(anim):\n",
    "    html_version = HTML(anim.to_jshtml())\n",
    "    #html_version = HTML(anim.to_html5_video())\n",
    "    return html_version"
   ]
  },
  {
   "cell_type": "markdown",
   "metadata": {},
   "source": [
    "### Compile the code:"
   ]
  },
  {
   "cell_type": "code",
   "execution_count": null,
   "metadata": {},
   "outputs": [],
   "source": [
    "nbtools.make_exe(new=True)  # new=True ==> force recompilation of all code"
   ]
  },
  {
   "cell_type": "markdown",
   "metadata": {},
   "source": [
    "### Make documentation files:"
   ]
  },
  {
   "cell_type": "code",
   "execution_count": null,
   "metadata": {},
   "outputs": [],
   "source": [
    "nbtools.make_htmls()"
   ]
  },
  {
   "cell_type": "markdown",
   "metadata": {},
   "source": [
    "### Run the code and plot results using the setrun.py and setplot.py files in this directory:\n",
    "\n",
    "First create data files needed for the Fortran code, using parameters specified in setrun.py:"
   ]
  },
  {
   "cell_type": "code",
   "execution_count": null,
   "metadata": {},
   "outputs": [],
   "source": [
    "nbtools.make_data(verbose=False)"
   ]
  },
  {
   "cell_type": "markdown",
   "metadata": {},
   "source": [
    "Now run the code and produce plots.  Specifying a label insures the resulting plot directory will persist after later runs are done below."
   ]
  },
  {
   "cell_type": "code",
   "execution_count": null,
   "metadata": {},
   "outputs": [],
   "source": [
    "outdir,plotdir = nbtools.make_output_and_plots(label='1')"
   ]
  },
  {
   "cell_type": "markdown",
   "metadata": {},
   "source": [
    "### Display the animation inline:\n",
    "\n",
    "Clicking on the _PlotIndex link above, you can view an animation of the results.  \n",
    "\n",
    "After creating all png files in the _plots directory, these can also be combined in an animation that is displayed inline:"
   ]
  },
  {
   "cell_type": "code",
   "execution_count": null,
   "metadata": {},
   "outputs": [],
   "source": [
    "anim = animation_tools.animate_from_plotdir(plotdir);\n",
    "show_anim(anim)"
   ]
  },
  {
   "cell_type": "markdown",
   "metadata": {},
   "source": [
    "## Adjust some parameters to explore the methods in Clawpack\n",
    "\n",
    "The animation above was computed using the default parameter values specified in `setrun.py`, which specified using the high-resolution method with the MC limiter.\n",
    "See the <a href=\"README.html\">README.html</a> file for a link to `setrun.py`.\n",
    "\n",
    "We can adjust the parameters by reading in the default values, changing one or more, and then  writing the data out for the Fortran code to use:"
   ]
  },
  {
   "cell_type": "code",
   "execution_count": null,
   "metadata": {},
   "outputs": [],
   "source": [
    "import setrun\n",
    "rundata = setrun.setrun()\n",
    "\n",
    "print(\"The left boundary condition is currently set to \",rundata.clawdata.bc_lower)\n",
    "print(\"The right boundary condition is currently set to \",rundata.clawdata.bc_upper)"
   ]
  },
  {
   "cell_type": "markdown",
   "metadata": {},
   "source": [
    "### Periodic boundary conditions\n",
    "\n",
    "Change the boundary conditions and write out the data.  Then rerun the code. "
   ]
  },
  {
   "cell_type": "code",
   "execution_count": null,
   "metadata": {},
   "outputs": [],
   "source": [
    "rundata.clawdata.bc_lower = ['periodic']\n",
    "rundata.clawdata.bc_upper = ['periodic']\n",
    "\n",
    "# also extend the time over which the solution is computed and plotted:\n",
    "rundata.clawdata.num_output_times = 40\n",
    "rundata.clawdata.tfinal = 2.0\n",
    "\n",
    "rundata.write()\n",
    "\n",
    "outdir, plotdir = nbtools.make_output_and_plots(verbose=False)\n",
    "\n",
    "anim = animation_tools.animate_from_plotdir(plotdir);\n",
    "show_anim(anim)"
   ]
  },
  {
   "cell_type": "markdown",
   "metadata": {},
   "source": [
    "### Reflecting wall boundary conditions\n",
    "\n",
    "Change the boundary conditions and write out the data.  Then rerun the code. "
   ]
  },
  {
   "cell_type": "code",
   "execution_count": null,
   "metadata": {},
   "outputs": [],
   "source": [
    "rundata.clawdata.bc_lower = ['wall']\n",
    "rundata.clawdata.bc_upper = ['wall']\n",
    "\n",
    "rundata.write()\n",
    "\n",
    "outdir, plotdir = nbtools.make_output_and_plots(verbose=False)\n",
    "anim = animation_tools.animate_from_plotdir(plotdir);\n",
    "show_anim(anim)"
   ]
  },
  {
   "cell_type": "markdown",
   "metadata": {},
   "source": [
    "## Things to try:\n",
    "\n",
    "- Use `print(rundata.clawdata)` to see what parameters can be set.  Also print `rundata.probdata` to see what problem-specific paramaters are available.\n",
    "\n",
    "- Change the density `rho` or the bulk modulus `K` and see what effect this has."
   ]
  },
  {
   "cell_type": "code",
   "execution_count": null,
   "metadata": {},
   "outputs": [],
   "source": [
    "def print_material():\n",
    "    rho = rundata.probdata.rho\n",
    "    K = rundata.probdata.K\n",
    "    Z = sqrt(K*rho)\n",
    "    c = sqrt(K/rho)\n",
    "    print(\"The density rho = %g and bulk modulus %g give\" % (rho,K))\n",
    "    print(\"  speed of sound c = %g\" % c)\n",
    "    print(\"  impedance Z = %g\" % Z)\n",
    "print_material()"
   ]
  },
  {
   "cell_type": "code",
   "execution_count": null,
   "metadata": {},
   "outputs": [],
   "source": [
    "rundata.probdata.rho = 4.\n",
    "rundata.write()\n",
    "print_material()\n",
    "\n",
    "outdir, plotdir = nbtools.make_output_and_plots(verbose=False)\n",
    "anim = animation_tools.animate_from_plotdir(plotdir);\n",
    "show_anim(anim)"
   ]
  },
  {
   "cell_type": "code",
   "execution_count": null,
   "metadata": {},
   "outputs": [],
   "source": []
  }
 ],
 "metadata": {
  "kernelspec": {
   "display_name": "Python 2",
   "language": "python",
   "name": "python2"
  },
  "language_info": {
   "codemirror_mode": {
    "name": "ipython",
    "version": 3
   },
   "file_extension": ".py",
   "mimetype": "text/x-python",
   "name": "python",
   "nbconvert_exporter": "python",
   "pygments_lexer": "ipython3",
   "version": "3.6.10"
  }
 },
 "nbformat": 4,
 "nbformat_minor": 1
}
